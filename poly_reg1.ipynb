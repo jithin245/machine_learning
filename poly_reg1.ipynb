{
 "cells": [
  {
   "cell_type": "code",
   "execution_count": 1,
   "id": "0c271b11-c056-4fee-901a-80ee155165f8",
   "metadata": {},
   "outputs": [],
   "source": [
    "# import the libraries\n",
    "import pandas as pd\n",
    "import numpy as np\n",
    "import matplotlib.pyplot as plt\n",
    "import seaborn as sns"
   ]
  },
  {
   "cell_type": "code",
   "execution_count": 2,
   "id": "7e3e07d4-8c8d-421e-9c88-c48d2a719c33",
   "metadata": {},
   "outputs": [],
   "source": [
    "data = pd.read_csv('https://raw.githubusercontent.com/lucko515/regression-python/master/Salaries%20based%20on%20Positions%20-%20dataset/Position_Salaries.csv')"
   ]
  },
  {
   "cell_type": "code",
   "execution_count": 3,
   "id": "dda45616-3c10-437f-8d09-c152ed50330d",
   "metadata": {},
   "outputs": [
    {
     "data": {
      "text/html": [
       "<div>\n",
       "<style scoped>\n",
       "    .dataframe tbody tr th:only-of-type {\n",
       "        vertical-align: middle;\n",
       "    }\n",
       "\n",
       "    .dataframe tbody tr th {\n",
       "        vertical-align: top;\n",
       "    }\n",
       "\n",
       "    .dataframe thead th {\n",
       "        text-align: right;\n",
       "    }\n",
       "</style>\n",
       "<table border=\"1\" class=\"dataframe\">\n",
       "  <thead>\n",
       "    <tr style=\"text-align: right;\">\n",
       "      <th></th>\n",
       "      <th>Position</th>\n",
       "      <th>Level</th>\n",
       "      <th>Salary</th>\n",
       "    </tr>\n",
       "  </thead>\n",
       "  <tbody>\n",
       "    <tr>\n",
       "      <th>0</th>\n",
       "      <td>Business Analyst</td>\n",
       "      <td>1</td>\n",
       "      <td>45000</td>\n",
       "    </tr>\n",
       "    <tr>\n",
       "      <th>1</th>\n",
       "      <td>Junior Consultant</td>\n",
       "      <td>2</td>\n",
       "      <td>50000</td>\n",
       "    </tr>\n",
       "    <tr>\n",
       "      <th>2</th>\n",
       "      <td>Senior Consultant</td>\n",
       "      <td>3</td>\n",
       "      <td>60000</td>\n",
       "    </tr>\n",
       "    <tr>\n",
       "      <th>3</th>\n",
       "      <td>Manager</td>\n",
       "      <td>4</td>\n",
       "      <td>80000</td>\n",
       "    </tr>\n",
       "    <tr>\n",
       "      <th>4</th>\n",
       "      <td>Country Manager</td>\n",
       "      <td>5</td>\n",
       "      <td>110000</td>\n",
       "    </tr>\n",
       "    <tr>\n",
       "      <th>5</th>\n",
       "      <td>Region Manager</td>\n",
       "      <td>6</td>\n",
       "      <td>150000</td>\n",
       "    </tr>\n",
       "    <tr>\n",
       "      <th>6</th>\n",
       "      <td>Partner</td>\n",
       "      <td>7</td>\n",
       "      <td>200000</td>\n",
       "    </tr>\n",
       "    <tr>\n",
       "      <th>7</th>\n",
       "      <td>Senior Partner</td>\n",
       "      <td>8</td>\n",
       "      <td>300000</td>\n",
       "    </tr>\n",
       "    <tr>\n",
       "      <th>8</th>\n",
       "      <td>C-level</td>\n",
       "      <td>9</td>\n",
       "      <td>500000</td>\n",
       "    </tr>\n",
       "    <tr>\n",
       "      <th>9</th>\n",
       "      <td>CEO</td>\n",
       "      <td>10</td>\n",
       "      <td>1000000</td>\n",
       "    </tr>\n",
       "  </tbody>\n",
       "</table>\n",
       "</div>"
      ],
      "text/plain": [
       "            Position  Level   Salary\n",
       "0   Business Analyst      1    45000\n",
       "1  Junior Consultant      2    50000\n",
       "2  Senior Consultant      3    60000\n",
       "3            Manager      4    80000\n",
       "4    Country Manager      5   110000\n",
       "5     Region Manager      6   150000\n",
       "6            Partner      7   200000\n",
       "7     Senior Partner      8   300000\n",
       "8            C-level      9   500000\n",
       "9                CEO     10  1000000"
      ]
     },
     "execution_count": 3,
     "metadata": {},
     "output_type": "execute_result"
    }
   ],
   "source": [
    "data"
   ]
  },
  {
   "cell_type": "code",
   "execution_count": 4,
   "id": "0372e888-1fec-4676-a4c9-57fc3f68af9d",
   "metadata": {},
   "outputs": [],
   "source": [
    "# create independent and dep variables\n",
    "X = data.iloc[:, 1:2].values\n",
    "y = data.iloc[:, 2].values"
   ]
  },
  {
   "cell_type": "code",
   "execution_count": 5,
   "id": "ce38498d-5c16-4a41-ba3f-ea2773b814d0",
   "metadata": {},
   "outputs": [],
   "source": [
    "# create split \n",
    "from sklearn.model_selection import train_test_split\n",
    "X_train, X_test, y_train, y_test = train_test_split(X, y, test_size=0.2, random_state=0)"
   ]
  },
  {
   "cell_type": "code",
   "execution_count": 6,
   "id": "725bb2b1-206c-42b0-aed9-924ce545db0b",
   "metadata": {},
   "outputs": [],
   "source": [
    "# Apply linear regression\n",
    "from sklearn.linear_model import LinearRegression\n",
    "lr = LinearRegression()"
   ]
  },
  {
   "cell_type": "code",
   "execution_count": 7,
   "id": "66254b8a-7236-4f18-b249-b123d4e0107d",
   "metadata": {},
   "outputs": [],
   "source": [
    "# training\n",
    "lr.fit(X, y)\n",
    "y_pred = lr.predict(X)"
   ]
  },
  {
   "cell_type": "code",
   "execution_count": 8,
   "id": "6f02ced6-bd71-4ffb-af0b-50c6397a0644",
   "metadata": {},
   "outputs": [
    {
     "data": {
      "image/png": "[encoded data removed]",
      "text/plain": [
       "<Figure size 432x288 with 1 Axes>"
      ]
     },
     "metadata": {
      "needs_background": "light"
     },
     "output_type": "display_data"
    }
   ],
   "source": [
    "plt.scatter(X, y, color='red')\n",
    "plt.plot(X, y_pred, color='blue')\n",
    "plt.xlabel('level')\n",
    "plt.ylabel('salary')\n",
    "plt.show()"
   ]
  },
  {
   "cell_type": "code",
   "execution_count": 9,
   "id": "89c854f9-934c-4596-bc4a-224807516f6a",
   "metadata": {},
   "outputs": [],
   "source": [
    "# Apply polynomial regression\n",
    "# create variable into n degree of polynomial\n",
    "from sklearn.preprocessing import PolynomialFeatures\n",
    "poly_reg = PolynomialFeatures(degree=4)\n",
    "X_poly = poly_reg.fit_transform(X)"
   ]
  },
  {
   "cell_type": "code",
   "execution_count": 10,
   "id": "d36d2de3-af29-43c4-9e4e-a50d58c62c27",
   "metadata": {},
   "outputs": [
    {
     "data": {
      "text/plain": [
       "array([[1.000e+00, 1.000e+00, 1.000e+00, 1.000e+00, 1.000e+00],\n",
       "       [1.000e+00, 2.000e+00, 4.000e+00, 8.000e+00, 1.600e+01],\n",
       "       [1.000e+00, 3.000e+00, 9.000e+00, 2.700e+01, 8.100e+01],\n",
       "       [1.000e+00, 4.000e+00, 1.600e+01, 6.400e+01, 2.560e+02],\n",
       "       [1.000e+00, 5.000e+00, 2.500e+01, 1.250e+02, 6.250e+02],\n",
       "       [1.000e+00, 6.000e+00, 3.600e+01, 2.160e+02, 1.296e+03],\n",
       "       [1.000e+00, 7.000e+00, 4.900e+01, 3.430e+02, 2.401e+03],\n",
       "       [1.000e+00, 8.000e+00, 6.400e+01, 5.120e+02, 4.096e+03],\n",
       "       [1.000e+00, 9.000e+00, 8.100e+01, 7.290e+02, 6.561e+03],\n",
       "       [1.000e+00, 1.000e+01, 1.000e+02, 1.000e+03, 1.000e+04]])"
      ]
     },
     "execution_count": 10,
     "metadata": {},
     "output_type": "execute_result"
    }
   ],
   "source": [
    "X_poly"
   ]
  },
  {
   "cell_type": "code",
   "execution_count": 11,
   "id": "ed8042cf-c5dc-48b6-b0e6-59be6095f6f6",
   "metadata": {},
   "outputs": [
    {
     "data": {
      "text/html": [
       "<style>#sk-container-id-1 {color: black;}#sk-container-id-1 pre{padding: 0;}#sk-container-id-1 div.sk-toggleable {background-color: white;}#sk-container-id-1 label.sk-toggleable__label {cursor: pointer;display: block;width: 100%;margin-bottom: 0;padding: 0.3em;box-sizing: border-box;text-align: center;}#sk-container-id-1 label.sk-toggleable__label-arrow:before {content: \"▸\";float: left;margin-right: 0.25em;color: #696969;}#sk-container-id-1 label.sk-toggleable__label-arrow:hover:before {color: black;}#sk-container-id-1 div.sk-estimator:hover label.sk-toggleable__label-arrow:before {color: black;}#sk-container-id-1 div.sk-toggleable__content {max-height: 0;max-width: 0;overflow: hidden;text-align: left;background-color: #f0f8ff;}#sk-container-id-1 div.sk-toggleable__content pre {margin: 0.2em;color: black;border-radius: 0.25em;background-color: #f0f8ff;}#sk-container-id-1 input.sk-toggleable__control:checked~div.sk-toggleable__content {max-height: 200px;max-width: 100%;overflow: auto;}#sk-container-id-1 input.sk-toggleable__control:checked~label.sk-toggleable__label-arrow:before {content: \"▾\";}#sk-container-id-1 div.sk-estimator input.sk-toggleable__control:checked~label.sk-toggleable__label {background-color: #d4ebff;}#sk-container-id-1 div.sk-label input.sk-toggleable__control:checked~label.sk-toggleable__label {background-color: #d4ebff;}#sk-container-id-1 input.sk-hidden--visually {border: 0;clip: rect(1px 1px 1px 1px);clip: rect(1px, 1px, 1px, 1px);height: 1px;margin: -1px;overflow: hidden;padding: 0;position: absolute;width: 1px;}#sk-container-id-1 div.sk-estimator {font-family: monospace;background-color: #f0f8ff;border: 1px dotted black;border-radius: 0.25em;box-sizing: border-box;margin-bottom: 0.5em;}#sk-container-id-1 div.sk-estimator:hover {background-color: #d4ebff;}#sk-container-id-1 div.sk-parallel-item::after {content: \"\";width: 100%;border-bottom: 1px solid gray;flex-grow: 1;}#sk-container-id-1 div.sk-label:hover label.sk-toggleable__label {background-color: #d4ebff;}#sk-container-id-1 div.sk-serial::before {content: \"\";position: absolute;border-left: 1px solid gray;box-sizing: border-box;top: 0;bottom: 0;left: 50%;z-index: 0;}#sk-container-id-1 div.sk-serial {display: flex;flex-direction: column;align-items: center;background-color: white;padding-right: 0.2em;padding-left: 0.2em;position: relative;}#sk-container-id-1 div.sk-item {position: relative;z-index: 1;}#sk-container-id-1 div.sk-parallel {display: flex;align-items: stretch;justify-content: center;background-color: white;position: relative;}#sk-container-id-1 div.sk-item::before, #sk-container-id-1 div.sk-parallel-item::before {content: \"\";position: absolute;border-left: 1px solid gray;box-sizing: border-box;top: 0;bottom: 0;left: 50%;z-index: -1;}#sk-container-id-1 div.sk-parallel-item {display: flex;flex-direction: column;z-index: 1;position: relative;background-color: white;}#sk-container-id-1 div.sk-parallel-item:first-child::after {align-self: flex-end;width: 50%;}#sk-container-id-1 div.sk-parallel-item:last-child::after {align-self: flex-start;width: 50%;}#sk-container-id-1 div.sk-parallel-item:only-child::after {width: 0;}#sk-container-id-1 div.sk-dashed-wrapped {border: 1px dashed gray;margin: 0 0.4em 0.5em 0.4em;box-sizing: border-box;padding-bottom: 0.4em;background-color: white;}#sk-container-id-1 div.sk-label label {font-family: monospace;font-weight: bold;display: inline-block;line-height: 1.2em;}#sk-container-id-1 div.sk-label-container {text-align: center;}#sk-container-id-1 div.sk-container {/* jupyter's `normalize.less` sets `[hidden] { display: none; }` but bootstrap.min.css set `[hidden] { display: none !important; }` so we also need the `!important` here to be able to override the default hidden behavior on the sphinx rendered scikit-learn.org. See: https://github.com/scikit-learn/scikit-learn/issues/21755 */display: inline-block !important;position: relative;}#sk-container-id-1 div.sk-text-repr-fallback {display: none;}</style><div id=\"sk-container-id-1\" class=\"sk-top-container\"><div class=\"sk-text-repr-fallback\"><pre>LinearRegression()</pre><b>In a Jupyter environment, please rerun this cell to show the HTML representation or trust the notebook. <br />On GitHub, the HTML representation is unable to render, please try loading this page with nbviewer.org.</b></div><div class=\"sk-container\" hidden><div class=\"sk-item\"><div class=\"sk-estimator sk-toggleable\"><input class=\"sk-toggleable__control sk-hidden--visually\" id=\"sk-estimator-id-1\" type=\"checkbox\" checked><label for=\"sk-estimator-id-1\" class=\"sk-toggleable__label sk-toggleable__label-arrow\">LinearRegression</label><div class=\"sk-toggleable__content\"><pre>LinearRegression()</pre></div></div></div></div></div>"
      ],
      "text/plain": [
       "LinearRegression()"
      ]
     },
     "execution_count": 11,
     "metadata": {},
     "output_type": "execute_result"
    }
   ],
   "source": [
    "polynomial_reg = LinearRegression()\n",
    "polynomial_reg.fit(X_poly, y)"
   ]
  },
  {
   "cell_type": "code",
   "execution_count": 12,
   "id": "83d81501-4520-49eb-93c3-9924a156ccff",
   "metadata": {},
   "outputs": [
    {
     "data": {
      "text/plain": [
       "array([ 53356.64335673,  31759.90675989,  58642.19114214,  94632.86713283,\n",
       "       121724.94172492, 143275.05827504, 184003.49650348, 289994.17249416,\n",
       "       528694.63869465, 988916.08391617])"
      ]
     },
     "execution_count": 12,
     "metadata": {},
     "output_type": "execute_result"
    }
   ],
   "source": [
    "y_pred_new = polynomial_reg.predict(X_poly)\n",
    "y_pred_new"
   ]
  },
  {
   "cell_type": "code",
   "execution_count": 13,
   "id": "8b94f693-f31f-466f-a2f0-9da5f8baae6f",
   "metadata": {},
   "outputs": [
    {
     "data": {
      "image/png": "[encoded data removed]",
      "text/plain": [
       "<Figure size 432x288 with 1 Axes>"
      ]
     },
     "metadata": {
      "needs_background": "light"
     },
     "output_type": "display_data"
    }
   ],
   "source": [
    "plt.scatter(X, y, color='red')\n",
    "plt.plot(X, y_pred_new, color='blue')\n",
    "plt.xlabel('level')\n",
    "plt.ylabel('salary')\n",
    "plt.show()"
   ]
  },
  {
   "cell_type": "code",
   "execution_count": 14,
   "id": "3e48e2fb-ff1a-49d6-af3f-74437833485e",
   "metadata": {},
   "outputs": [
    {
     "data": {
      "text/plain": [
       "array([      0.        , -211002.33100264,   94765.44289054,\n",
       "        -15463.2867133 ,     890.15151515])"
      ]
     },
     "execution_count": 14,
     "metadata": {},
     "output_type": "execute_result"
    }
   ],
   "source": [
    "polynomial_reg.coef_"
   ]
  },
  {
   "cell_type": "code",
   "execution_count": 15,
   "id": "3159202f-28a7-494b-a081-6c0a7c60e6c8",
   "metadata": {},
   "outputs": [
    {
     "data": {
      "text/plain": [
       "184166.66666697623"
      ]
     },
     "execution_count": 15,
     "metadata": {},
     "output_type": "execute_result"
    }
   ],
   "source": [
    "polynomial_reg.intercept_"
   ]
  },
  {
   "cell_type": "code",
   "execution_count": 16,
   "id": "098e3dff-b0f9-4bf4-a90e-ceae22675dd2",
   "metadata": {},
   "outputs": [
    {
     "data": {
      "text/plain": [
       "array([209060.60606061])"
      ]
     },
     "execution_count": 16,
     "metadata": {},
     "output_type": "execute_result"
    }
   ],
   "source": [
    "# real time prediction\n",
    "# level is 5, predict the salary\n",
    "lr.predict([[5]])"
   ]
  },
  {
   "cell_type": "code",
   "execution_count": 17,
   "id": "dbda0562-99fc-4a1e-9498-39cef7dbb89f",
   "metadata": {},
   "outputs": [
    {
     "data": {
      "text/plain": [
       "array([121724.94172492])"
      ]
     },
     "execution_count": 17,
     "metadata": {},
     "output_type": "execute_result"
    }
   ],
   "source": [
    "level_data = poly_reg.fit_transform([[5]])\n",
    "polynomial_reg.predict(level_data)"
   ]
  },
  {
   "cell_type": "code",
   "execution_count": 18,
   "id": "4b897fb1-b77c-4428-a278-473e685f37ee",
   "metadata": {},
   "outputs": [],
   "source": [
    "# conclusion - there is a difference in both predictions, non linear inputs require non linear models"
   ]
  },
  {
   "cell_type": "code",
   "execution_count": 19,
   "id": "6280243c-09e0-4209-94ec-c73d6d746f70",
   "metadata": {},
   "outputs": [
    {
     "data": {
      "text/html": [
       "<div>\n",
       "<style scoped>\n",
       "    .dataframe tbody tr th:only-of-type {\n",
       "        vertical-align: middle;\n",
       "    }\n",
       "\n",
       "    .dataframe tbody tr th {\n",
       "        vertical-align: top;\n",
       "    }\n",
       "\n",
       "    .dataframe thead th {\n",
       "        text-align: right;\n",
       "    }\n",
       "</style>\n",
       "<table border=\"1\" class=\"dataframe\">\n",
       "  <thead>\n",
       "    <tr style=\"text-align: right;\">\n",
       "      <th></th>\n",
       "      <th>CRIM</th>\n",
       "      <th>ZN</th>\n",
       "      <th>INDUS</th>\n",
       "      <th>CHAS</th>\n",
       "      <th>NOX</th>\n",
       "      <th>RM</th>\n",
       "      <th>AGE</th>\n",
       "      <th>DIS</th>\n",
       "      <th>RAD</th>\n",
       "      <th>TAX</th>\n",
       "      <th>PTRATIO</th>\n",
       "      <th>B</th>\n",
       "      <th>LSTAT</th>\n",
       "      <th>MEDV</th>\n",
       "    </tr>\n",
       "  </thead>\n",
       "  <tbody>\n",
       "    <tr>\n",
       "      <th>0</th>\n",
       "      <td>0.00632</td>\n",
       "      <td>18.0</td>\n",
       "      <td>2.31</td>\n",
       "      <td>0</td>\n",
       "      <td>0.538</td>\n",
       "      <td>6.575</td>\n",
       "      <td>65.2</td>\n",
       "      <td>4.0900</td>\n",
       "      <td>1</td>\n",
       "      <td>296.0</td>\n",
       "      <td>15.3</td>\n",
       "      <td>396.90</td>\n",
       "      <td>4.98</td>\n",
       "      <td>24.0</td>\n",
       "    </tr>\n",
       "    <tr>\n",
       "      <th>1</th>\n",
       "      <td>0.02731</td>\n",
       "      <td>0.0</td>\n",
       "      <td>7.07</td>\n",
       "      <td>0</td>\n",
       "      <td>0.469</td>\n",
       "      <td>6.421</td>\n",
       "      <td>78.9</td>\n",
       "      <td>4.9671</td>\n",
       "      <td>2</td>\n",
       "      <td>242.0</td>\n",
       "      <td>17.8</td>\n",
       "      <td>396.90</td>\n",
       "      <td>9.14</td>\n",
       "      <td>21.6</td>\n",
       "    </tr>\n",
       "    <tr>\n",
       "      <th>2</th>\n",
       "      <td>0.02729</td>\n",
       "      <td>0.0</td>\n",
       "      <td>7.07</td>\n",
       "      <td>0</td>\n",
       "      <td>0.469</td>\n",
       "      <td>7.185</td>\n",
       "      <td>61.1</td>\n",
       "      <td>4.9671</td>\n",
       "      <td>2</td>\n",
       "      <td>242.0</td>\n",
       "      <td>17.8</td>\n",
       "      <td>392.83</td>\n",
       "      <td>4.03</td>\n",
       "      <td>34.7</td>\n",
       "    </tr>\n",
       "    <tr>\n",
       "      <th>3</th>\n",
       "      <td>0.03237</td>\n",
       "      <td>0.0</td>\n",
       "      <td>2.18</td>\n",
       "      <td>0</td>\n",
       "      <td>0.458</td>\n",
       "      <td>6.998</td>\n",
       "      <td>45.8</td>\n",
       "      <td>6.0622</td>\n",
       "      <td>3</td>\n",
       "      <td>222.0</td>\n",
       "      <td>18.7</td>\n",
       "      <td>394.63</td>\n",
       "      <td>2.94</td>\n",
       "      <td>33.4</td>\n",
       "    </tr>\n",
       "    <tr>\n",
       "      <th>4</th>\n",
       "      <td>0.06905</td>\n",
       "      <td>0.0</td>\n",
       "      <td>2.18</td>\n",
       "      <td>0</td>\n",
       "      <td>0.458</td>\n",
       "      <td>7.147</td>\n",
       "      <td>54.2</td>\n",
       "      <td>6.0622</td>\n",
       "      <td>3</td>\n",
       "      <td>222.0</td>\n",
       "      <td>18.7</td>\n",
       "      <td>396.90</td>\n",
       "      <td>5.33</td>\n",
       "      <td>36.2</td>\n",
       "    </tr>\n",
       "    <tr>\n",
       "      <th>...</th>\n",
       "      <td>...</td>\n",
       "      <td>...</td>\n",
       "      <td>...</td>\n",
       "      <td>...</td>\n",
       "      <td>...</td>\n",
       "      <td>...</td>\n",
       "      <td>...</td>\n",
       "      <td>...</td>\n",
       "      <td>...</td>\n",
       "      <td>...</td>\n",
       "      <td>...</td>\n",
       "      <td>...</td>\n",
       "      <td>...</td>\n",
       "      <td>...</td>\n",
       "    </tr>\n",
       "    <tr>\n",
       "      <th>501</th>\n",
       "      <td>0.06263</td>\n",
       "      <td>0.0</td>\n",
       "      <td>11.93</td>\n",
       "      <td>0</td>\n",
       "      <td>0.573</td>\n",
       "      <td>6.593</td>\n",
       "      <td>69.1</td>\n",
       "      <td>2.4786</td>\n",
       "      <td>1</td>\n",
       "      <td>273.0</td>\n",
       "      <td>21.0</td>\n",
       "      <td>391.99</td>\n",
       "      <td>9.67</td>\n",
       "      <td>22.4</td>\n",
       "    </tr>\n",
       "    <tr>\n",
       "      <th>502</th>\n",
       "      <td>0.04527</td>\n",
       "      <td>0.0</td>\n",
       "      <td>11.93</td>\n",
       "      <td>0</td>\n",
       "      <td>0.573</td>\n",
       "      <td>6.120</td>\n",
       "      <td>76.7</td>\n",
       "      <td>2.2875</td>\n",
       "      <td>1</td>\n",
       "      <td>273.0</td>\n",
       "      <td>21.0</td>\n",
       "      <td>396.90</td>\n",
       "      <td>9.08</td>\n",
       "      <td>20.6</td>\n",
       "    </tr>\n",
       "    <tr>\n",
       "      <th>503</th>\n",
       "      <td>0.06076</td>\n",
       "      <td>0.0</td>\n",
       "      <td>11.93</td>\n",
       "      <td>0</td>\n",
       "      <td>0.573</td>\n",
       "      <td>6.976</td>\n",
       "      <td>91.0</td>\n",
       "      <td>2.1675</td>\n",
       "      <td>1</td>\n",
       "      <td>273.0</td>\n",
       "      <td>21.0</td>\n",
       "      <td>396.90</td>\n",
       "      <td>5.64</td>\n",
       "      <td>23.9</td>\n",
       "    </tr>\n",
       "    <tr>\n",
       "      <th>504</th>\n",
       "      <td>0.10959</td>\n",
       "      <td>0.0</td>\n",
       "      <td>11.93</td>\n",
       "      <td>0</td>\n",
       "      <td>0.573</td>\n",
       "      <td>6.794</td>\n",
       "      <td>89.3</td>\n",
       "      <td>2.3889</td>\n",
       "      <td>1</td>\n",
       "      <td>273.0</td>\n",
       "      <td>21.0</td>\n",
       "      <td>393.45</td>\n",
       "      <td>6.48</td>\n",
       "      <td>22.0</td>\n",
       "    </tr>\n",
       "    <tr>\n",
       "      <th>505</th>\n",
       "      <td>0.04741</td>\n",
       "      <td>0.0</td>\n",
       "      <td>11.93</td>\n",
       "      <td>0</td>\n",
       "      <td>0.573</td>\n",
       "      <td>6.030</td>\n",
       "      <td>80.8</td>\n",
       "      <td>2.5050</td>\n",
       "      <td>1</td>\n",
       "      <td>273.0</td>\n",
       "      <td>21.0</td>\n",
       "      <td>396.90</td>\n",
       "      <td>7.88</td>\n",
       "      <td>11.9</td>\n",
       "    </tr>\n",
       "  </tbody>\n",
       "</table>\n",
       "<p>506 rows × 14 columns</p>\n",
       "</div>"
      ],
      "text/plain": [
       "        CRIM    ZN   INDUS   CHAS    NOX     RM   AGE     DIS   RAD    TAX  \\\n",
       "0    0.00632  18.0    2.31      0  0.538  6.575  65.2  4.0900     1  296.0   \n",
       "1    0.02731   0.0    7.07      0  0.469  6.421  78.9  4.9671     2  242.0   \n",
       "2    0.02729   0.0    7.07      0  0.469  7.185  61.1  4.9671     2  242.0   \n",
       "3    0.03237   0.0    2.18      0  0.458  6.998  45.8  6.0622     3  222.0   \n",
       "4    0.06905   0.0    2.18      0  0.458  7.147  54.2  6.0622     3  222.0   \n",
       "..       ...   ...     ...    ...    ...    ...   ...     ...   ...    ...   \n",
       "501  0.06263   0.0   11.93      0  0.573  6.593  69.1  2.4786     1  273.0   \n",
       "502  0.04527   0.0   11.93      0  0.573  6.120  76.7  2.2875     1  273.0   \n",
       "503  0.06076   0.0   11.93      0  0.573  6.976  91.0  2.1675     1  273.0   \n",
       "504  0.10959   0.0   11.93      0  0.573  6.794  89.3  2.3889     1  273.0   \n",
       "505  0.04741   0.0   11.93      0  0.573  6.030  80.8  2.5050     1  273.0   \n",
       "\n",
       "      PTRATIO       B   LSTAT  MEDV  \n",
       "0        15.3  396.90    4.98  24.0  \n",
       "1        17.8  396.90    9.14  21.6  \n",
       "2        17.8  392.83    4.03  34.7  \n",
       "3        18.7  394.63    2.94  33.4  \n",
       "4        18.7  396.90    5.33  36.2  \n",
       "..        ...     ...     ...   ...  \n",
       "501      21.0  391.99    9.67  22.4  \n",
       "502      21.0  396.90    9.08  20.6  \n",
       "503      21.0  396.90    5.64  23.9  \n",
       "504      21.0  393.45    6.48  22.0  \n",
       "505      21.0  396.90    7.88  11.9  \n",
       "\n",
       "[506 rows x 14 columns]"
      ]
     },
     "execution_count": 19,
     "metadata": {},
     "output_type": "execute_result"
    }
   ],
   "source": [
    "# load the dataset\n",
    "data = pd.read_csv('housing.csv')\n",
    "data"
   ]
  },
  {
   "cell_type": "code",
   "execution_count": 20,
   "id": "63b74fa7-8347-48b7-9415-289f8dc0af63",
   "metadata": {},
   "outputs": [
    {
     "data": {
      "text/plain": [
       "CRIM        0\n",
       " ZN         0\n",
       " INDUS      0\n",
       " CHAS       0\n",
       " NOX        0\n",
       " RM         0\n",
       " AGE        0\n",
       " DIS        0\n",
       " RAD        0\n",
       " TAX        0\n",
       " PTRATIO    0\n",
       " B          0\n",
       " LSTAT      0\n",
       "MEDV        0\n",
       "dtype: int64"
      ]
     },
     "execution_count": 20,
     "metadata": {},
     "output_type": "execute_result"
    }
   ],
   "source": [
    "data.isnull().sum()"
   ]
  },
  {
   "cell_type": "code",
   "execution_count": 21,
   "id": "e219d548-5864-48b0-966b-e5d19448accc",
   "metadata": {},
   "outputs": [],
   "source": [
    "# create independent & dependent variables\n",
    "X = data.iloc[:, :-1]\n",
    "y = data.iloc[:, -1]"
   ]
  },
  {
   "cell_type": "code",
   "execution_count": 22,
   "id": "025a28ee-5b82-4f72-aaf0-dfc9133b4b6e",
   "metadata": {},
   "outputs": [],
   "source": [
    "from sklearn.model_selection import train_test_split\n",
    "X_train, X_test, y_train, y_test = train_test_split(X, y, test_size=0.25, random_state=42)"
   ]
  },
  {
   "cell_type": "code",
   "execution_count": 23,
   "id": "de12b525-3aa3-41e2-ab51-68791f7030a5",
   "metadata": {},
   "outputs": [],
   "source": [
    "from sklearn.linear_model import Ridge\n",
    "ridge_reg = Ridge(alpha=5.0)"
   ]
  },
  {
   "cell_type": "code",
   "execution_count": 24,
   "id": "3a061aec-880e-45ba-8a0c-b184749912d0",
   "metadata": {},
   "outputs": [],
   "source": [
    "ridge_reg.fit(X_train, y_train)\n",
    "y_pred = ridge_reg.predict(X_test)"
   ]
  },
  {
   "cell_type": "code",
   "execution_count": 25,
   "id": "be07e89d-f5f5-4f8e-9f5a-6acf423b4116",
   "metadata": {},
   "outputs": [
    {
     "name": "stdout",
     "output_type": "stream",
     "text": [
      "MSE 22.902386317267556\n"
     ]
    }
   ],
   "source": [
    "# calculate score\n",
    "from sklearn.metrics import mean_squared_error, r2_score\n",
    "print('MSE', mean_squared_error(y_test, y_pred))"
   ]
  },
  {
   "cell_type": "code",
   "execution_count": 26,
   "id": "a0142747-8722-404c-8eb3-6f5a880be8fe",
   "metadata": {},
   "outputs": [
    {
     "name": "stdout",
     "output_type": "stream",
     "text": [
      "r2 score 0.6729498716907126\n"
     ]
    }
   ],
   "source": [
    "print('r2 score', r2_score(y_test, y_pred))"
   ]
  },
  {
   "cell_type": "code",
   "execution_count": 27,
   "id": "98eab191-c1f9-49ea-a46f-a50b908d7fe1",
   "metadata": {},
   "outputs": [
    {
     "name": "stdout",
     "output_type": "stream",
     "text": [
      "r2 score on train data 0.7417470497702194\n"
     ]
    }
   ],
   "source": [
    "# train score\n",
    "y_pred_train = ridge_reg.predict(X_train)\n",
    "print('r2 score on train data', r2_score(y_train, y_pred_train))"
   ]
  },
  {
   "cell_type": "code",
   "execution_count": 52,
   "id": "2c18523b-d7a5-4dcd-b3dd-7bc2180c83c1",
   "metadata": {},
   "outputs": [
    {
     "name": "stdout",
     "output_type": "stream",
     "text": [
      "Fitting 5 folds for each of 10 candidates, totalling 50 fits\n",
      "Best parameters are  {'alpha': 0.5}\n",
      "Best score  -3.5033033987886397\n",
      "[CV] END ..........................................alpha=0.0; total time=   0.0s\n",
      "[CV] END ..........................................alpha=0.0; total time=   0.0s\n",
      "[CV] END ..........................................alpha=0.1; total time=   0.0s\n",
      "[CV] END ..........................................alpha=0.1; total time=   0.0s\n",
      "[CV] END ..........................................alpha=0.2; total time=   0.0s\n",
      "[CV] END ..........................................alpha=0.2; total time=   0.0s\n",
      "[CV] END ..........................alpha=0.30000000000000004; total time=   0.0s\n",
      "[CV] END ..........................alpha=0.30000000000000004; total time=   0.0s\n",
      "[CV] END ..........................alpha=0.30000000000000004; total time=   0.0s\n",
      "[CV] END ..........................alpha=0.30000000000000004; total time=   0.0s\n",
      "[CV] END ..........................................alpha=0.4; total time=   0.0s\n",
      "[CV] END ..........................................alpha=0.5; total time=   0.0s\n",
      "[CV] END ..........................................alpha=0.5; total time=   0.0s\n",
      "[CV] END ..........................................alpha=0.5; total time=   0.0s\n",
      "[CV] END ...........................alpha=0.7000000000000001; total time=   0.0s\n",
      "[CV] END ...........................alpha=0.7000000000000001; total time=   0.0s\n",
      "[CV] END ...........................alpha=0.7000000000000001; total time=   0.0s\n",
      "[CV] END ...........................alpha=0.7000000000000001; total time=   0.0s\n",
      "[CV] END ..........................................alpha=0.8; total time=   0.0s\n",
      "[CV] END ..........................................alpha=0.8; total time=   0.0s\n",
      "[CV] END ..........................................alpha=0.8; total time=   0.0s\n",
      "[CV] END ..........................................alpha=0.8; total time=   0.0s\n",
      "[CV] END ..........................................alpha=0.9; total time=   0.0s\n",
      "[CV] END ..........................................alpha=0.9; total time=   0.0s\n",
      "[CV] END ..........................................alpha=0.9; total time=   0.0s\n",
      "[CV] END ..........................................alpha=0.0; total time=   0.0s\n",
      "[CV] END ..........................................alpha=0.0; total time=   0.0s\n",
      "[CV] END ..........................................alpha=0.1; total time=   0.0s\n",
      "[CV] END ..........................................alpha=0.1; total time=   0.0s\n",
      "[CV] END ..........................................alpha=0.2; total time=   0.0s\n",
      "[CV] END ..........................................alpha=0.2; total time=   0.0s\n",
      "[CV] END ..........................alpha=0.30000000000000004; total time=   0.0s\n",
      "[CV] END ..........................alpha=0.30000000000000004; total time=   0.0s\n",
      "[CV] END ..........................alpha=0.30000000000000004; total time=   0.0s\n",
      "[CV] END ..........................alpha=0.30000000000000004; total time=   0.0s\n",
      "[CV] END ..........................................alpha=0.4; total time=   0.0s\n",
      "[CV] END ..........................................alpha=0.5; total time=   0.0s\n",
      "[CV] END ..........................................alpha=0.5; total time=   0.0s\n",
      "[CV] END ..........................................alpha=0.5; total time=   0.0s\n",
      "[CV] END ...........................alpha=0.7000000000000001; total time=   0.0s\n",
      "[CV] END ...........................alpha=0.7000000000000001; total time=   0.0s\n",
      "[CV] END ...........................alpha=0.7000000000000001; total time=   0.0s\n",
      "[CV] END ...........................alpha=0.7000000000000001; total time=   0.0s\n",
      "[CV] END ..........................................alpha=0.8; total time=   0.0s\n",
      "[CV] END ..........................................alpha=0.8; total time=   0.0s\n",
      "[CV] END ..........................................alpha=0.8; total time=   0.0s\n",
      "[CV] END ..........................................alpha=0.8; total time=   0.0s\n",
      "[CV] END ..........................................alpha=0.9; total time=   0.0s\n",
      "[CV] END ..........................................alpha=0.9; total time=   0.0s\n",
      "[CV] END ..........................................alpha=0.9; total time=   0.0s\n",
      "[CV] END ..........................................alpha=0.0; total time=   0.0s\n",
      "[CV] END ..........................................alpha=0.1; total time=   0.0s\n",
      "[CV] END ..........................................alpha=0.1; total time=   0.0s\n",
      "[CV] END ..........................................alpha=0.1; total time=   0.0s\n",
      "[CV] END ..........................................alpha=0.2; total time=   0.0s\n",
      "[CV] END ..........................................alpha=0.2; total time=   0.0s\n",
      "[CV] END ..........................................alpha=0.2; total time=   0.0s\n",
      "[CV] END ..........................alpha=0.30000000000000004; total time=   0.0s\n",
      "[CV] END ..........................................alpha=0.4; total time=   0.0s\n",
      "[CV] END ..........................................alpha=0.4; total time=   0.0s\n",
      "[CV] END ..........................................alpha=0.4; total time=   0.0s\n",
      "[CV] END ..........................................alpha=0.4; total time=   0.0s\n",
      "[CV] END ..........................................alpha=0.5; total time=   0.0s\n",
      "[CV] END ..........................................alpha=0.5; total time=   0.0s\n",
      "[CV] END ...........................alpha=0.6000000000000001; total time=   0.0s\n",
      "[CV] END ...........................alpha=0.6000000000000001; total time=   0.0s\n",
      "[CV] END ...........................alpha=0.6000000000000001; total time=   0.0s\n",
      "[CV] END ...........................alpha=0.6000000000000001; total time=   0.0s\n",
      "[CV] END ...........................alpha=0.6000000000000001; total time=   0.0s\n",
      "[CV] END ...........................alpha=0.7000000000000001; total time=   0.0s\n",
      "[CV] END ..........................................alpha=0.8; total time=   0.0s\n",
      "[CV] END ..........................................alpha=0.9; total time=   0.0s\n",
      "[CV] END ..........................................alpha=0.9; total time=   0.0s\n",
      "[CV] END ..........................................alpha=0.0; total time=   0.0s\n",
      "[CV] END ..........................................alpha=0.0; total time=   0.0s\n",
      "[CV] END ..........................................alpha=0.0; total time=   0.0s\n",
      "[CV] END ..........................................alpha=0.1; total time=   0.0s\n",
      "[CV] END ..........................................alpha=0.1; total time=   0.0s\n",
      "[CV] END ..........................................alpha=0.1; total time=   0.0s\n",
      "[CV] END ..........................................alpha=0.2; total time=   0.0s\n",
      "[CV] END ..........................................alpha=0.2; total time=   0.0s\n",
      "[CV] END ..........................................alpha=0.2; total time=   0.0s\n",
      "[CV] END ..........................alpha=0.30000000000000004; total time=   0.0s\n",
      "[CV] END ..........................................alpha=0.4; total time=   0.0s\n",
      "[CV] END ..........................................alpha=0.4; total time=   0.0s\n",
      "[CV] END ..........................................alpha=0.4; total time=   0.0s\n",
      "[CV] END ..........................................alpha=0.4; total time=   0.0s\n",
      "[CV] END ..........................................alpha=0.5; total time=   0.0s\n",
      "[CV] END ..........................................alpha=0.5; total time=   0.0s\n",
      "[CV] END ...........................alpha=0.6000000000000001; total time=   0.0s\n",
      "[CV] END ...........................alpha=0.6000000000000001; total time=   0.0s\n",
      "[CV] END ...........................alpha=0.6000000000000001; total time=   0.0s\n",
      "[CV] END ...........................alpha=0.6000000000000001; total time=   0.0s\n",
      "[CV] END ...........................alpha=0.6000000000000001; total time=   0.0s\n",
      "[CV] END ...........................alpha=0.7000000000000001; total time=   0.0s\n",
      "[CV] END ..........................................alpha=0.8; total time=   0.0s\n",
      "[CV] END ..........................................alpha=0.9; total time=   0.0s\n",
      "[CV] END ..........................................alpha=0.9; total time=   0.0s\n"
     ]
    }
   ],
   "source": [
    "# To find the best alpha apply grid search cv\n",
    "from sklearn.model_selection import GridSearchCV\n",
    "\n",
    "grid = dict()\n",
    "grid['alpha'] = np.arange(0, 1, 0.1)\n",
    "ridge_reg = Ridge()\n",
    "grid_search = GridSearchCV(estimator=ridge_reg, param_grid=grid, scoring='neg_mean_absolute_error', \n",
    "                           cv=5, n_jobs=-1, verbose=2)\n",
    "\n",
    "results = grid_search.fit(X_train, y_train)\n",
    "\n",
    "print('Best parameters are ', results.best_params_)\n",
    "print('Best score ', results.best_score_)"
   ]
  },
  {
   "cell_type": "code",
   "execution_count": 49,
   "id": "41ed0ea5-8667-4446-aab4-46a9f47af134",
   "metadata": {},
   "outputs": [],
   "source": [
    "from sklearn.linear_model import Ridge\n",
    "\n",
    "ridge_reg = Ridge(alpha=0.5)\n",
    "ridge_reg.fit(X_train, y_train)\n",
    "\n",
    "y_pred = ridge_reg.predict(X_test)\n",
    "y_pred_train = ridge_reg.predict(X_train)"
   ]
  },
  {
   "cell_type": "code",
   "execution_count": 50,
   "id": "f11f9371-7cc2-410a-898f-b86efdb75d6a",
   "metadata": {},
   "outputs": [
    {
     "name": "stdout",
     "output_type": "stream",
     "text": [
      "MSE 22.312902839780186\n",
      "r2 score 0.6813678000357206\n",
      "r2 score train 0.7472594470483025\n"
     ]
    }
   ],
   "source": [
    "# calculate the score\n",
    "from sklearn.metrics import mean_squared_error, r2_score\n",
    "print('MSE', mean_squared_error(y_test, y_pred))\n",
    "print('r2 score', r2_score(y_test, y_pred))\n",
    "print('r2 score train', r2_score(y_train, y_pred_train))"
   ]
  },
  {
   "cell_type": "code",
   "execution_count": 51,
   "id": "a4b4faee-fde4-4e64-9d4f-2ee9737bba4c",
   "metadata": {},
   "outputs": [
    {
     "data": {
      "text/plain": [
       "array([-1.25363109e-01,  3.07217281e-02,  2.86295964e-02,  2.63656727e+00,\n",
       "       -1.13943702e+01,  4.38192912e+00, -1.32792095e-02, -1.32939616e+00,\n",
       "        2.48598829e-01, -1.05097528e-02, -8.64525961e-01,  1.33817060e-02,\n",
       "       -5.28002165e-01])"
      ]
     },
     "execution_count": 51,
     "metadata": {},
     "output_type": "execute_result"
    }
   ],
   "source": [
    "ridge_reg.coef_"
   ]
  },
  {
   "cell_type": "code",
   "execution_count": null,
   "id": "091b903b-5058-42a1-b331-29e796404465",
   "metadata": {},
   "outputs": [],
   "source": []
  }
 ],
 "metadata": {
  "kernelspec": {
   "display_name": "Python 3 [3.10]",
   "language": "python",
   "name": "python3"
  },
  "language_info": {
   "codemirror_mode": {
    "name": "ipython",
    "version": 3
   },
   "file_extension": ".py",
   "mimetype": "text/x-python",
   "name": "python",
   "nbconvert_exporter": "python",
   "pygments_lexer": "ipython3",
   "version": "3.10.2"
  }
 },
 "nbformat": 4,
 "nbformat_minor": 5
}
